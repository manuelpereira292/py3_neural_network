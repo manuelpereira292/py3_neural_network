{
 "cells": [
  {
   "cell_type": "code",
   "execution_count": 1,
   "metadata": {},
   "outputs": [],
   "source": [
    "import matplotlib.pyplot as plt\n",
    "import numpy as np"
   ]
  },
  {
   "cell_type": "code",
   "execution_count": 2,
   "metadata": {},
   "outputs": [],
   "source": [
    "def nn(m1, m2, w1, w2, b):\n",
    "    z = m1 * w1 + m2 * w2 + b\n",
    "    return sigmoid(z)\n",
    "\n",
    "def sigmoid(x):\n",
    "    return 1 / (1 + np.exp(-x))"
   ]
  },
  {
   "cell_type": "code",
   "execution_count": 3,
   "metadata": {},
   "outputs": [],
   "source": [
    "# 0 - blue / 1 - Red\n",
    "resultado_flower = [1, 0, 1, 0, 1, 0, 1, 0, 1]\n",
    "dados_lenght = [3, 2, 4, 3, 3.5, 2, 5.5, 1, 4.5]\n",
    "dados_width = [1.5, 1, 1.5, 1, 0.5, 0.5, 1, 1, 1]"
   ]
  },
  {
   "cell_type": "code",
   "execution_count": 4,
   "metadata": {},
   "outputs": [],
   "source": [
    "previsão = list()\n",
    "for x in range(len(dados_lenght)):\n",
    "    m1 = float(dados_lenght[x])\n",
    "    m2 = float(dados_width[x])\n",
    "    w1 = np.random.randn()\n",
    "    w2 = np.random.randn()\n",
    "    b = np.random.randn()\n",
    "    resultado = nn(m1, m2, w1, w2, b)\n",
    "    previsão.append(float(f'{resultado:.2f}'))\n",
    "    "
   ]
  },
  {
   "cell_type": "code",
   "execution_count": 5,
   "metadata": {},
   "outputs": [
    {
     "output_type": "execute_result",
     "data": {
      "text/plain": "[0.18, 0.97, 0.96, 0.03, 0.97, 0.88, 0.98, 0.92, 0.02]"
     },
     "metadata": {},
     "execution_count": 5
    }
   ],
   "source": [
    "previsão"
   ]
  },
  {
   "cell_type": "code",
   "execution_count": 6,
   "metadata": {},
   "outputs": [],
   "source": [
    "def slope(pre, res):\n",
    "    return 2 * (pre - res)"
   ]
  },
  {
   "cell_type": "code",
   "execution_count": 9,
   "metadata": {},
   "outputs": [],
   "source": [
    "resultado1 = list()\n",
    "for x in range(len(previsão)):\n",
    "    p = previsão[x]\n",
    "    r = resultado_flower[x]\n",
    "    for n in range(100):\n",
    "        p = p - .1 * slope(p, r)\n",
    "    \n",
    "    resultado1.append(float(f'{p:.2f}'))"
   ]
  },
  {
   "cell_type": "code",
   "execution_count": 10,
   "metadata": {},
   "outputs": [
    {
     "output_type": "execute_result",
     "data": {
      "text/plain": "[1.0, 0.0, 1.0, 0.0, 1.0, 0.0, 1.0, 0.0, 1.0]"
     },
     "metadata": {},
     "execution_count": 10
    }
   ],
   "source": [
    "resultado1"
   ]
  }
 ],
 "metadata": {
  "language_info": {
   "codemirror_mode": {
    "name": "ipython",
    "version": 3
   },
   "file_extension": ".py",
   "mimetype": "text/x-python",
   "name": "python",
   "nbconvert_exporter": "python",
   "pygments_lexer": "ipython3",
   "version": "3.8.2-final"
  },
  "orig_nbformat": 2,
  "kernelspec": {
   "name": "python38264bitb68cd10d1ee049cfb24fba5da657b80d",
   "display_name": "Python 3.8.2 64-bit"
  }
 },
 "nbformat": 4,
 "nbformat_minor": 2
}